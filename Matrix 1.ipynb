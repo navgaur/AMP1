{
 "cells": [
  {
   "cell_type": "markdown",
   "id": "b130bbab-8ba3-46de-bd19-ea44fa4b5b74",
   "metadata": {},
   "source": [
    "## **Complex algebra** "
   ]
  },
  {
   "cell_type": "code",
   "execution_count": 1,
   "id": "6115f73d-8535-45a5-8bef-4bd33dd811d1",
   "metadata": {},
   "outputs": [
    {
     "name": "stdout",
     "output_type": "stream",
     "text": [
      "Real Part of complex number is : 1.0\n",
      "Imaginary part of complex number is : 2.0\n"
     ]
    }
   ],
   "source": [
    "import cmath\n",
    "x = 1\n",
    "y = 2\n",
    "z = complex(x,y) \n",
    "print (\"Real Part of complex number is : \", end=\"\")\n",
    "print(z.real) \n",
    "print(\"Imaginary part of complex number is : \", end=\"\")\n",
    "print(z.imag) "
   ]
  },
  {
   "cell_type": "code",
   "execution_count": 18,
   "id": "a1e42620-62c4-4e76-bbe4-cc9b81f8543f",
   "metadata": {},
   "outputs": [
    {
     "name": "stdout",
     "output_type": "stream",
     "text": [
      "2.0\n",
      "3.0\n",
      "Phase : 0.982793723247329 3.605551275463989\n",
      "(3.605551275463989, 0.982793723247329) (0.5403023058681398+0.8414709848078965j)\n",
      "(3+5j) (-4+7j) (1.6-0.2j)\n"
     ]
    }
   ],
   "source": [
    "z = 2 + 3j\n",
    "print(z.real)\n",
    "print(z.imag) \n",
    "print(\"Phase :\", cmath.phase(z), abs(z)) \n",
    "w = cmath.polar(z) \n",
    "w_rect = cmath.rect(1,1) \n",
    "print(w,w_rect) \n",
    "z1 = 1 + 2j\n",
    "print(z+z1,z*z1,z/z1) "
   ]
  },
  {
   "cell_type": "code",
   "execution_count": 19,
   "id": "1286304e-a712-4465-a9a7-61efd3e27474",
   "metadata": {},
   "outputs": [
    {
     "name": "stdout",
     "output_type": "stream",
     "text": [
      "(9.15449914691143-4.168906959966565j)\n"
     ]
    }
   ],
   "source": [
    "print(cmath.sin(z))"
   ]
  },
  {
   "cell_type": "code",
   "execution_count": 20,
   "id": "cc53dbd7-dc6b-47de-915f-c26b6122bbab",
   "metadata": {},
   "outputs": [
    {
     "name": "stdout",
     "output_type": "stream",
     "text": [
      "(-7.315110094901103+1.0427436562359045j)\n"
     ]
    }
   ],
   "source": [
    "print(cmath.exp(z))"
   ]
  },
  {
   "cell_type": "code",
   "execution_count": null,
   "id": "4365fc01-f9c6-4289-a1e1-3ec986b241fe",
   "metadata": {},
   "outputs": [],
   "source": []
  }
 ],
 "metadata": {
  "kernelspec": {
   "display_name": "Python 3 (ipykernel)",
   "language": "python",
   "name": "python3"
  },
  "language_info": {
   "codemirror_mode": {
    "name": "ipython",
    "version": 3
   },
   "file_extension": ".py",
   "mimetype": "text/x-python",
   "name": "python",
   "nbconvert_exporter": "python",
   "pygments_lexer": "ipython3",
   "version": "3.9.13"
  }
 },
 "nbformat": 4,
 "nbformat_minor": 5
}
